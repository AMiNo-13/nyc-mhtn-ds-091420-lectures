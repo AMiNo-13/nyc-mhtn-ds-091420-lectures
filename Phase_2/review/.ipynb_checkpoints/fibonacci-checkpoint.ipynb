{
 "cells": [
  {
   "cell_type": "markdown",
   "metadata": {},
   "source": [
    "The Fibonacci numbers form a sequence where each number is the sum of the two preceding ones, starting from 0 and 1.\n",
    "\n",
    "That is:\n",
    "\n",
    "``` F(0) = 0,   F(1) = 1 \n",
    " F(x) = F(x - 1) + F(x - 2), for x > 1. \n",
    " Given N, calculate F(x). ```\n",
    "\n",
    " \n",
    "\n",
    "**Example 1:**\n",
    "\n",
    "``` Input: 2 \n",
    " Output: 1\n",
    " Explanation: F(2) = F(1) + F(0) = 1 + 0 = 1. ```\n",
    "\n",
    "**Example 2:**\n",
    "\n",
    "``` Input: 3 \n",
    " Output: 2 \n",
    " Explanation: F(3) = F(2) + F(1) = 1 + 1 = 2. ```\n",
    "\n",
    "**Example 3:**\n",
    "\n",
    "``` Input: 4 \n",
    " Output: 3 \n",
    " Explanation: F(4) = F(3) + F(2) = 2 + 1 = 3. ```"
   ]
  },
  {
   "cell_type": "code",
   "execution_count": null,
   "metadata": {},
   "outputs": [],
   "source": [
    "def fib(x):\n",
    "    pass"
   ]
  },
  {
   "cell_type": "code",
   "execution_count": null,
   "metadata": {},
   "outputs": [],
   "source": [
    "print(fib(0) == 0)\n",
    "print(fib(1) == 1)\n",
    "print(fib(2) == 1)\n",
    "print(fib(3) == 2)\n",
    "print(fib(4) == 3)\n",
    "print(fib(5) == 5)\n",
    "print(fib(10) == 55)\n",
    "print(fib(20) == 6765)\n",
    "print(fib(30) == 832040)"
   ]
  },
  {
   "cell_type": "code",
   "execution_count": 11,
   "metadata": {},
   "outputs": [
    {
     "name": "stdout",
     "output_type": "stream",
     "text": [
      "CPU times: user 35.7 s, sys: 63.7 ms, total: 35.7 s\n",
      "Wall time: 35.8 s\n"
     ]
    },
    {
     "data": {
      "text/plain": [
       "102334155"
      ]
     },
     "execution_count": 11,
     "metadata": {},
     "output_type": "execute_result"
    }
   ],
   "source": [
    "%%time\n",
    "\n",
    "fib(40)"
   ]
  }
 ],
 "metadata": {
  "kernelspec": {
   "display_name": "learn-env",
   "language": "python",
   "name": "learn-env"
  },
  "language_info": {
   "codemirror_mode": {
    "name": "ipython",
    "version": 3
   },
   "file_extension": ".py",
   "mimetype": "text/x-python",
   "name": "python",
   "nbconvert_exporter": "python",
   "pygments_lexer": "ipython3",
   "version": "3.6.9"
  }
 },
 "nbformat": 4,
 "nbformat_minor": 4
}
